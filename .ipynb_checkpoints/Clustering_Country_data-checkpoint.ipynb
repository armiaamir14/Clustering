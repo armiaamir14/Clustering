{
 "cells": [
  {
   "cell_type": "code",
   "execution_count": null,
   "id": "7588142c",
   "metadata": {},
   "outputs": [],
   "source": [
    "import pandas as pd\n",
    "import seaborn as sns"
   ]
  },
  {
   "cell_type": "code",
   "execution_count": null,
   "id": "9a607e3f",
   "metadata": {},
   "outputs": [],
   "source": [
    "df=pd.read_csv('Country-data.csv')\n",
    "df"
   ]
  },
  {
   "cell_type": "code",
   "execution_count": null,
   "id": "936d1c5e",
   "metadata": {},
   "outputs": [],
   "source": [
    "df.country.value_counts()"
   ]
  },
  {
   "cell_type": "code",
   "execution_count": null,
   "id": "15fed25c",
   "metadata": {},
   "outputs": [],
   "source": [
    "df.drop('country',axis=1,inplace=True)\n",
    "df"
   ]
  },
  {
   "cell_type": "code",
   "execution_count": null,
   "id": "9f565586",
   "metadata": {},
   "outputs": [],
   "source": [
    "sns.pairplot(data=df)"
   ]
  },
  {
   "cell_type": "code",
   "execution_count": null,
   "id": "c39bb706",
   "metadata": {},
   "outputs": [],
   "source": [
    "import matplotlib.pyplot as plt"
   ]
  },
  {
   "cell_type": "code",
   "execution_count": null,
   "id": "09135979",
   "metadata": {},
   "outputs": [],
   "source": [
    "sns.jointplot(x='total_fer',y='health',data=df)"
   ]
  },
  {
   "cell_type": "code",
   "execution_count": null,
   "id": "99319b15",
   "metadata": {},
   "outputs": [],
   "source": [
    "df_n=df[['total_fer','health']]\n",
    "df_n"
   ]
  },
  {
   "cell_type": "code",
   "execution_count": null,
   "id": "7af615f8",
   "metadata": {},
   "outputs": [],
   "source": [
    "from sklearn.preprocessing import StandardScaler\n",
    "scaler=StandardScaler()\n",
    "x_scaled=scaler.fit_transform(df_n)\n",
    "x_scaled"
   ]
  },
  {
   "cell_type": "markdown",
   "id": "e92f6fbd",
   "metadata": {},
   "source": [
    "## KMeans"
   ]
  },
  {
   "cell_type": "code",
   "execution_count": null,
   "id": "09ae38c0",
   "metadata": {},
   "outputs": [],
   "source": [
    "from sklearn.cluster import KMeans\n",
    "model=KMeans(n_clusters=3)\n",
    "model.fit(x_scaled)\n",
    "clusters=model.predict(x_scaled)\n",
    "clusters"
   ]
  },
  {
   "cell_type": "code",
   "execution_count": null,
   "id": "1b7a6419",
   "metadata": {},
   "outputs": [],
   "source": [
    "df_n['cluster']=clusters\n",
    "df_n"
   ]
  },
  {
   "cell_type": "code",
   "execution_count": null,
   "id": "3fc36538",
   "metadata": {},
   "outputs": [],
   "source": [
    "centroid=model.cluster_centers_\n",
    "centroid"
   ]
  },
  {
   "cell_type": "code",
   "execution_count": null,
   "id": "45082f3e",
   "metadata": {},
   "outputs": [],
   "source": [
    "plt.scatter(x_scaled[:,0],x_scaled[:,1],c=clusters,cmap='viridis')\n",
    "plt.scatter(centroid[:,0],centroid[:,1],s=70,c='red')"
   ]
  },
  {
   "cell_type": "code",
   "execution_count": null,
   "id": "7b7233c3",
   "metadata": {},
   "outputs": [],
   "source": [
    "model.inertia_"
   ]
  },
  {
   "cell_type": "code",
   "execution_count": null,
   "id": "fa0eed84",
   "metadata": {},
   "outputs": [],
   "source": [
    "\n",
    "scores=[]\n",
    "for i in range(1,12):\n",
    "    model=KMeans(n_clusters=i)\n",
    "    model.fit(x_scaled)\n",
    "    scores.append(model.inertia_)\n",
    "    \n",
    "    \n",
    "plt.plot(range(1,12),scores)\n",
    "plt.title('elbow Method')\n",
    "plt.xlabel('n_clustering')\n",
    "plt.ylabel('inertial')"
   ]
  },
  {
   "cell_type": "code",
   "execution_count": null,
   "id": "dfcbf42c",
   "metadata": {},
   "outputs": [],
   "source": [
    "model=KMeans(n_clusters=3)\n",
    "model.fit(x_scaled)\n",
    "clusters=model.predict(x_scaled)\n",
    "df_n['clusters']=clusters\n",
    "df_n"
   ]
  },
  {
   "cell_type": "code",
   "execution_count": null,
   "id": "4628fd5d",
   "metadata": {},
   "outputs": [],
   "source": []
  },
  {
   "cell_type": "code",
   "execution_count": null,
   "id": "79511e37",
   "metadata": {},
   "outputs": [],
   "source": [
    "df_n.drop('cluster',axis=1,inplace=True)"
   ]
  },
  {
   "cell_type": "code",
   "execution_count": null,
   "id": "4bafcca7",
   "metadata": {},
   "outputs": [],
   "source": [
    "df_n['clusters'].value_counts()"
   ]
  },
  {
   "cell_type": "code",
   "execution_count": null,
   "id": "94df46df",
   "metadata": {},
   "outputs": [],
   "source": [
    "centroids=model.cluster_centers_\n",
    "centroids"
   ]
  },
  {
   "cell_type": "code",
   "execution_count": null,
   "id": "fbb7cfe2",
   "metadata": {},
   "outputs": [],
   "source": [
    "plt.scatter(x_scaled[:,0],x_scaled[:,1],c=df_n['clusters'],cmap='viridis')\n",
    "plt.scatter(centroids[:,0],centroids[:,1],s=70,c='red')"
   ]
  },
  {
   "cell_type": "markdown",
   "id": "cfc7c3d5",
   "metadata": {},
   "source": [
    "## Hierarical clustering"
   ]
  },
  {
   "cell_type": "code",
   "execution_count": null,
   "id": "72592e38",
   "metadata": {},
   "outputs": [],
   "source": [
    "from sklearn.cluster import AgglomerativeClustering\n",
    "import scipy.cluster.hierarchy as sch\n",
    "\n",
    "dendrogram=sch.dendrogram(sch.linkage(x,method='ward'))"
   ]
  },
  {
   "cell_type": "code",
   "execution_count": null,
   "id": "216894f4",
   "metadata": {},
   "outputs": [],
   "source": [
    "df_n"
   ]
  },
  {
   "cell_type": "code",
   "execution_count": 158,
   "id": "17286d6e",
   "metadata": {},
   "outputs": [],
   "source": [
    "x=df_n.drop('clusters',axis=1)\n",
    "y=df_n['clusters']"
   ]
  },
  {
   "cell_type": "code",
   "execution_count": 159,
   "id": "ad7bedc9",
   "metadata": {},
   "outputs": [],
   "source": [
    "from sklearn.model_selection import train_test_split\n",
    "\n",
    "x_train,x_test,y_train,y_test=train_test_split(x,y,test_size=0.2,stratify=y)"
   ]
  },
  {
   "cell_type": "code",
   "execution_count": 160,
   "id": "a96994dd",
   "metadata": {},
   "outputs": [],
   "source": [
    "scaler.fit(x_train)\n",
    "x_train=scaler.transform(x_train)\n",
    "x_test=scaler.transform(x_test)"
   ]
  },
  {
   "cell_type": "code",
   "execution_count": 163,
   "id": "fd57b5b2",
   "metadata": {},
   "outputs": [
    {
     "name": "stdout",
     "output_type": "stream",
     "text": [
      "Using:LR\n",
      "train accuracy: 0.9774436090225563\n",
      "test accuracy: 1.0\n",
      "Using:KNN\n",
      "train accuracy: 0.9699248120300752\n",
      "test accuracy: 0.9411764705882353\n",
      "Using:SVC\n",
      "train accuracy: 0.9699248120300752\n",
      "test accuracy: 0.9411764705882353\n",
      "Using:DT\n",
      "train accuracy: 1.0\n",
      "test accuracy: 0.9117647058823529\n",
      "Using:RF\n",
      "train accuracy: 1.0\n",
      "test accuracy: 0.9411764705882353\n",
      "Using:XGBR\n",
      "[18:40:32] WARNING: C:/Users/Administrator/workspace/xgboost-win64_release_1.5.1/src/learner.cc:1115: Starting in XGBoost 1.3.0, the default evaluation metric used with the objective 'multi:softprob' was changed from 'merror' to 'mlogloss'. Explicitly set eval_metric if you'd like to restore the old behavior.\n"
     ]
    },
    {
     "name": "stderr",
     "output_type": "stream",
     "text": [
      "C:\\ProgramData\\Anaconda3\\lib\\site-packages\\xgboost\\sklearn.py:1224: UserWarning: The use of label encoder in XGBClassifier is deprecated and will be removed in a future release. To remove this warning, do the following: 1) Pass option use_label_encoder=False when constructing XGBClassifier object; and 2) Encode your labels (y) as integers starting with 0, i.e. 0, 1, 2, ..., [num_class - 1].\n",
      "  warnings.warn(label_encoder_deprecation_msg, UserWarning)\n"
     ]
    },
    {
     "name": "stdout",
     "output_type": "stream",
     "text": [
      "train accuracy: 1.0\n",
      "test accuracy: 0.9117647058823529\n",
      "Using:NB\n",
      "train accuracy: 0.9699248120300752\n",
      "test accuracy: 0.9411764705882353\n"
     ]
    }
   ],
   "source": [
    "from sklearn.linear_model import LogisticRegression\n",
    "from sklearn.neighbors import KNeighborsClassifier\n",
    "from sklearn.tree import DecisionTreeClassifier\n",
    "from sklearn.svm import SVC\n",
    "from sklearn.naive_bayes import GaussianNB\n",
    "from sklearn.ensemble import RandomForestClassifier\n",
    "from xgboost import XGBClassifier\n",
    "from sklearn.metrics import confusion_matrix,accuracy_score,recall_score,precision_score,f1_score,fbeta_score\n",
    "\n",
    "models={\n",
    "    'LR':LogisticRegression(),\n",
    "    'KNN':KNeighborsClassifier(n_neighbors=7),\n",
    "    'SVC':SVC(),\n",
    "    'DT':DecisionTreeClassifier(),\n",
    "    'RF':RandomForestClassifier(n_estimators=60),\n",
    "    'XGBR':XGBClassifier(),\n",
    "    'NB':GaussianNB()\n",
    "}\n",
    "\n",
    "for name,model in models.items():\n",
    "    print(f'Using:{name}')\n",
    "    model.fit(x_train,y_train)\n",
    "    y_pred=model.predict(x_test)\n",
    "    print(f'train accuracy: {accuracy_score(y_train,model.predict(x_train))}')\n",
    "    print(f'test accuracy: {accuracy_score(y_test,y_pred)}')\n",
    "    "
   ]
  },
  {
   "cell_type": "code",
   "execution_count": 164,
   "id": "2b7f65d2",
   "metadata": {},
   "outputs": [
    {
     "data": {
      "text/plain": [
       "<AxesSubplot:>"
      ]
     },
     "execution_count": 164,
     "metadata": {},
     "output_type": "execute_result"
    },
    {
     "data": {
      "image/png": "[encoded data removed]",
      "text/plain": [
       "<Figure size 432x288 with 2 Axes>"
      ]
     },
     "metadata": {
      "needs_background": "light"
     },
     "output_type": "display_data"
    }
   ],
   "source": [
    "model=LogisticRegression()\n",
    "model.fit(x_train,y_train)\n",
    "ypred=model.predict(x_test)\n",
    "cc=confusion_matrix(y_test,ypred)\n",
    "sns.heatmap(cc,annot=True)"
   ]
  },
  {
   "cell_type": "code",
   "execution_count": 165,
   "id": "0a49a398",
   "metadata": {},
   "outputs": [
    {
     "data": {
      "text/plain": [
       "['features.h5']"
      ]
     },
     "execution_count": 165,
     "metadata": {},
     "output_type": "execute_result"
    }
   ],
   "source": [
    "import joblib\n",
    "joblib.dump(model,'model.h5')\n",
    "joblib.dump(scaler,'scaler.h5')\n",
    "joblib.dump(x.columns,'features.h5')"
   ]
  },
  {
   "cell_type": "code",
   "execution_count": null,
   "id": "942d41b3",
   "metadata": {},
   "outputs": [],
   "source": []
  }
 ],
 "metadata": {
  "kernelspec": {
   "display_name": "Python 3 (ipykernel)",
   "language": "python",
   "name": "python3"
  },
  "language_info": {
   "codemirror_mode": {
    "name": "ipython",
    "version": 3
   },
   "file_extension": ".py",
   "mimetype": "text/x-python",
   "name": "python",
   "nbconvert_exporter": "python",
   "pygments_lexer": "ipython3",
   "version": "3.8.12"
  }
 },
 "nbformat": 4,
 "nbformat_minor": 5
}
